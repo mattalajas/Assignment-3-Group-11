{
 "cells": [
  {
   "cell_type": "code",
   "execution_count": 1,
   "metadata": {},
   "outputs": [
    {
     "name": "stdout",
     "output_type": "stream",
     "text": [
      "           A         B         C         D         E         F  Class\n",
      "0   0.214976 -0.384359 -0.253904  0.073252 -0.997204 -0.713856      1\n",
      "1   0.035416 -0.677945 -0.571881 -0.105862  1.335831  0.318665      1\n",
      "2  -0.337595 -0.585268 -0.114920  2.241818 -3.147417  0.535136      0\n",
      "3   0.232490  0.867612 -1.148213  2.114344  1.000943 -0.051415      1\n",
      "4   0.159788 -0.716264  0.050523 -0.143337  0.943575  0.357644      1\n",
      "..       ...       ...       ...       ...       ...       ...    ...\n",
      "95 -0.566379  0.023273 -0.837898 -0.792902 -1.451985 -1.126614      1\n",
      "96 -1.889230  1.151715  0.807165  0.045266 -0.154393  1.489950      1\n",
      "97  0.519590 -0.709493  0.058287  0.335189  0.284258  0.312743      0\n",
      "98 -1.676751 -0.786611 -2.006107  0.313083 -0.408450 -1.280312      1\n",
      "99  2.202103  1.291359 -0.490241  0.835403 -0.610706  0.966344      1\n",
      "\n",
      "[100 rows x 7 columns]\n"
     ]
    }
   ],
   "source": [
    "import pandas as pd\n",
    "import numpy as np\n",
    "import sklearn as sk\n",
    "import seaborn as sns\n",
    "from sklearn.model_selection import train_test_split\n",
    "from sklearn.neural_network import MLPClassifier\n",
    "\n",
    "\n",
    "np.random.seed(12)\n",
    "no_examples = 100\n",
    "\n",
    "Y = pd.DataFrame(np.random.randint(0,2,no_examples), index=np.arange(no_examples), columns=['Class'])\n",
    "X = pd.DataFrame(np.random.randn(no_examples, 6),\n",
    "   index= np.arange(no_examples), columns=list('ABCDEF'))\n",
    "\n",
    "df = pd.concat([X,Y], axis=1)\n",
    "\n",
    "print(df)"
   ]
  },
  {
   "cell_type": "code",
   "execution_count": 5,
   "metadata": {},
   "outputs": [
    {
     "name": "stdout",
     "output_type": "stream",
     "text": [
      "0.55\n"
     ]
    }
   ],
   "source": [
    "np.random.seed(12)\n",
    "\n",
    "X_train, X_test, Y_train, Y_test = train_test_split(X, Y, test_size=0.2, shuffle=False)\n",
    "Y_train = np.ravel(Y_train)\n",
    "\n",
    "def run_classifier(x_train, y_train, x_test, y_test):\n",
    "    clf = MLPClassifier(hidden_layer_sizes=(10,), solver='sgd', learning_rate_init=0.01, max_iter=10000)\n",
    "    clf.fit(x_train, y_train)\n",
    "\n",
    "    preds = clf.predict(x_test)\n",
    "    score = clf.score(x_test, y_test)\n",
    "\n",
    "    return score\n",
    "\n",
    "print(run_classifier(X_train, Y_train, X_test, Y_test))"
   ]
  },
  {
   "cell_type": "code",
   "execution_count": 6,
   "metadata": {},
   "outputs": [
    {
     "name": "stdout",
     "output_type": "stream",
     "text": [
      "{'A': [0.4, 0.5, 0.35, 0.5, 0.4], 'B': [0.45, 0.65, 0.4, 0.45, 0.5], 'C': [0.4, 0.5, 0.55, 0.45, 0.4], 'D': [0.6, 0.45, 0.25, 0.5, 0.3], 'E': [0.3, 0.6, 0.7, 0.4, 0.4], 'F': [0.35, 0.45, 0.5, 0.45, 0.45]}\n"
     ]
    }
   ],
   "source": [
    "np.random.seed(12)\n",
    "\n",
    "def feature_selection(x_train, y_train, x_test, y_test, no_of_iterations = 100):\n",
    "    results = {}\n",
    "\n",
    "    # Iterates through each column\n",
    "    for column in x_train:\n",
    "        x_train_copy = x_train.copy()\n",
    "        score_list = []\n",
    "\n",
    "        # Shuffles the columns and takes result at n iterations\n",
    "        for _ in range(no_of_iterations):\n",
    "            x_train_copy[column] = np.random.permutation(x_train[column].values)\n",
    "\n",
    "            score = run_classifier(X_train, Y_train, X_test, Y_test)\n",
    "\n",
    "            score_list.append(score)\n",
    "\n",
    "        # Updates dictionary that appends list of scores\n",
    "        results[column] = score_list\n",
    "    \n",
    "    return results\n",
    "\n",
    "score_dict = feature_selection(X_train, Y_train, X_test, Y_test, 5)\n",
    "print(score_dict)"
   ]
  }
 ],
 "metadata": {
  "kernelspec": {
   "display_name": "compsci369",
   "language": "python",
   "name": "python3"
  },
  "language_info": {
   "codemirror_mode": {
    "name": "ipython",
    "version": 3
   },
   "file_extension": ".py",
   "mimetype": "text/x-python",
   "name": "python",
   "nbconvert_exporter": "python",
   "pygments_lexer": "ipython3",
   "version": "3.10.9"
  },
  "orig_nbformat": 4
 },
 "nbformat": 4,
 "nbformat_minor": 2
}
